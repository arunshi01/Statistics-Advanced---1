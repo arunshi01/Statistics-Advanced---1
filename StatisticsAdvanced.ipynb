{
  "nbformat": 4,
  "nbformat_minor": 0,
  "metadata": {
    "colab": {
      "provenance": []
    },
    "kernelspec": {
      "name": "python3",
      "display_name": "Python 3"
    },
    "language_info": {
      "name": "python"
    }
  },
  "cells": [
    {
      "cell_type": "markdown",
      "source": [
        "1) What is a random variable in probability theory?\n",
        "\n",
        "In probability theory, a random variable is a function that assigns a numerical value to each possible outcome of a random experiment.\n",
        "\n",
        "\"Random\" means the value isn't fixed—it depends on the outcome of some chance process.\n",
        "\n",
        "\"Variable\" means it can take different values.\n",
        "\n",
        "A random variable is a numerical representation of the outcomes of a random process, enabling us to apply mathematics and statistics to analyze uncertainty."
      ],
      "metadata": {
        "id": "fHfqMRyJbeEw"
      }
    },
    {
      "cell_type": "markdown",
      "source": [
        "2)  What are the types of random variables?\n",
        "\n",
        "1. Discrete Random Variable\n",
        "Definition: Can take only countable values (finite or countably infinite).\n",
        "\n",
        "2. Continuous Random Variable\n",
        "Definition: Can take any value in a continuous range (uncountably infinite).\n",
        "\n",
        "3. Mixed Random Variable\n",
        "Definition: Has both discrete and continuous components.\n",
        "\n"
      ],
      "metadata": {
        "id": "tnPoEibgcKz6"
      }
    },
    {
      "cell_type": "markdown",
      "source": [
        "3) Explain the difference between discrete and continuous distributions.\n",
        "\n",
        "A discrete probability distribution describes variables that take countable values.It is represented by a Probability Mass Function (PMF), which assigns a specific probability to each possible value, and the sum of all these probabilities equals 1. For discrete distributions, the probability of a single exact value can be greater than zero.\n",
        "\n",
        "In contrast, a continuous probability distribution describes variables that can take uncountably infinite values within a range.It is represented by a Probability Density Function (PDF), where probabilities are determined over intervals rather than exact values. For continuous distributions, the probability of any single exact value is always zero, and the total area under the curve of the PDF equals 1.\n",
        "\n"
      ],
      "metadata": {
        "id": "FPCMRkq0dDqj"
      }
    },
    {
      "cell_type": "markdown",
      "source": [
        "4) What is a binomial distribution, and how is it used in probability?\n",
        "A binomial distribution is a discrete probability distribution that models the number of successes in a fixed number of independent trials, where each trial has only two possible outcomes — success or failure — and the probability of success remains the same for each trial.\n",
        "\n",
        "Uses in probability: The binomial distribution is widely used to model real-world situations such as:\n",
        "\n",
        "i)Number of heads in 10 coin tosses (𝑝=0.5)\n",
        "\n",
        "ii)Number of defective items in a batch of products\n",
        "\n",
        "iii)Number of customers making a purchase out of a fixed sample\n",
        "\n",
        "It is especially useful when you want to predict the probability of a certain number of successes in a fixed number of independent, identical experiments.\n",
        "\n"
      ],
      "metadata": {
        "id": "LlksPxOJfGzj"
      }
    },
    {
      "cell_type": "markdown",
      "source": [
        "5) What is the standard normal distribution, and why is it important?\n",
        "\n",
        "The standard normal distribution is a special case of the normal (Gaussian) distribution where the mean (μ) is 0 and the standard deviation (σ) is 1. It has a symmetric, bell-shaped curve centered at 0, and the total area under the curve equals 1. The horizontal axis represents z-scores, which show how many standard deviations a value is from the mean.\n",
        "\n",
        "Importance:\n",
        "i)Simplifies calculations\n",
        "ii)Simplifies calculations\n",
        "iii)Standardization"
      ],
      "metadata": {
        "id": "8_4VOR29gCwM"
      }
    },
    {
      "cell_type": "markdown",
      "source": [
        "6)What is the Central Limit Theorem (CLT), and why is it critical in statistics?\n",
        "\n",
        "The Central Limit Theorem (CLT) states that if you take many random samples of a sufficiently large size from any population (with a finite mean and variance), the sampling distribution of the sample mean will be approximately normally distributed, regardless of the original population’s distribution.\n",
        "\n",
        "Why it’s critical:\n",
        "i)Foundation for inference\n",
        "ii)Hypothesis testing & confidence intervals\n",
        "iii)Practical applicability"
      ],
      "metadata": {
        "id": "R84HkRQ4lfK7"
      }
    },
    {
      "cell_type": "markdown",
      "source": [
        "7) What is the significance of confidence intervals in statistical analysis?\n",
        "\n",
        "A confidence interval (CI) is a range of values, calculated from sample data, that is likely to contain the true population parameter (such as mean or proportion) with a certain level of confidence.\n",
        "\n",
        "Significance in statistical analysis:\n",
        "\n",
        "i)Measures estimation precision\n",
        "ii)Reflects sampling variability\n",
        "iii)Enables informed decision-making\n",
        "iv)Common confidence levels"
      ],
      "metadata": {
        "id": "XKQafwqWmHjY"
      }
    },
    {
      "cell_type": "markdown",
      "source": [
        "8)What is the concept of expected value in a probability distribution?\n",
        "\n",
        "The expected value (also called the mean of a probability distribution) is the long-run average outcome you would expect if a random experiment were repeated many times under the same conditions.\n",
        "\n",
        "It is calculated by weighting each possible value of the random variable by its probability and summing (or integrating) the results."
      ],
      "metadata": {
        "id": "07DvYgt8mvt8"
      }
    },
    {
      "cell_type": "code",
      "source": [
        "#9 Write a Python program to generate 1000 random numbers from a normal distribution with mean = 50 and standard deviation = 5. Compute its mean and standard deviation using NumPy, and draw a histogram to visualize the distribution.\n",
        "\n",
        "import numpy as np\n",
        "import matplotlib.pyplot as plt\n",
        "\n",
        "# Parameters\n",
        "mean = 50\n",
        "std_dev = 5\n",
        "n_samples = 1000\n",
        "\n",
        "# Generate random numbers from a normal distribution\n",
        "data = np.random.normal(mean, std_dev, n_samples)\n",
        "\n",
        "# Compute mean and standard deviation\n",
        "computed_mean = np.mean(data)\n",
        "computed_std_dev = np.std(data)\n",
        "\n",
        "print(f\"Computed Mean: {computed_mean:.2f}\")\n",
        "print(f\"Computed Standard Deviation: {computed_std_dev:.2f}\")\n",
        "\n",
        "# Plot histogram\n",
        "plt.hist(data, bins=30, color='skyblue', edgecolor='black')\n",
        "plt.title('Histogram of Normally Distributed Data')\n",
        "plt.xlabel('Value')\n",
        "plt.ylabel('Frequency')\n",
        "plt.grid(axis='y', linestyle='--', alpha=0.7)\n",
        "plt.show()"
      ],
      "metadata": {
        "colab": {
          "base_uri": "https://localhost:8080/",
          "height": 507
        },
        "id": "FM9MKQI2nMAL",
        "outputId": "78be62b7-2178-4483-cdaa-72fdde9c7732"
      },
      "execution_count": 1,
      "outputs": [
        {
          "output_type": "stream",
          "name": "stdout",
          "text": [
            "Computed Mean: 50.12\n",
            "Computed Standard Deviation: 4.93\n"
          ]
        },
        {
          "output_type": "display_data",
          "data": {
            "text/plain": [
              "<Figure size 640x480 with 1 Axes>"
            ],
            "image/png": "[encoded data removed]"
          },
          "metadata": {}
        }
      ]
    },
    {
      "cell_type": "markdown",
      "source": [
        "10 You are working as a data analyst for a retail company. The company has\n",
        "collected daily sales data for 2 years and wants you to identify the overall sales trend.\n",
        "daily_sales = [220, 245, 210, 265, 230, 250, 260, 275, 240, 255,\n",
        "235, 260, 245, 250, 225, 270, 265, 255, 250, 260]\n",
        "● Explain how you would apply the Central Limit Theorem to estimate the average sales\n",
        "with a 95% confidence interval.\n",
        "● Write the Python code to compute the mean sales and its confidence interval.\n",
        "\n",
        "- We have daily sales data.\n",
        "\n",
        "-We treat it as a sample from the population of all possible days.\n",
        "\n",
        "-Using CLT, we can compute a 95% confidence interval (CI) for the mean sales."
      ],
      "metadata": {
        "id": "MV1ZvaBxnxfG"
      }
    },
    {
      "cell_type": "code",
      "source": [
        "import numpy as np\n",
        "from scipy import stats\n",
        "\n",
        "# Daily sales data\n",
        "daily_sales = [220, 245, 210, 265, 230, 250, 260, 275, 240, 255,\n",
        "               235, 260, 245, 250, 225, 270, 265, 255, 250, 260]\n",
        "\n",
        "# Convert to numpy array\n",
        "data = np.array(daily_sales)\n",
        "\n",
        "# Sample statistics\n",
        "mean_sales = np.mean(data)\n",
        "std_sales = np.std(data, ddof=1)  # sample standard deviation\n",
        "n = len(data)\n",
        "\n",
        "# Standard error\n",
        "SE = std_sales / np.sqrt(n)\n",
        "\n",
        "# t-critical value for 95% confidence interval\n",
        "t_critical = stats.t.ppf(0.975, df=n-1)  # two-tailed, alpha=0.05\n",
        "\n",
        "# Confidence interval\n",
        "margin_of_error = t_critical * SE\n",
        "lower_bound = mean_sales - margin_of_error\n",
        "upper_bound = mean_sales + margin_of_error\n",
        "\n",
        "print(f\"Mean Sales: {mean_sales:.2f}\")\n",
        "print(f\"95% Confidence Interval: ({lower_bound:.2f}, {upper_bound:.2f})\")"
      ],
      "metadata": {
        "colab": {
          "base_uri": "https://localhost:8080/"
        },
        "id": "otimwrTpnzXc",
        "outputId": "c49cead6-0de5-4779-9820-f9c633fc9c53"
      },
      "execution_count": 2,
      "outputs": [
        {
          "output_type": "stream",
          "name": "stdout",
          "text": [
            "Mean Sales: 248.25\n",
            "95% Confidence Interval: (240.17, 256.33)\n"
          ]
        }
      ]
    }
  ]
}